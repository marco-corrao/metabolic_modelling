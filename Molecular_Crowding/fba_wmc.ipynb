{
 "cells": [
  {
   "cell_type": "code",
   "execution_count": 1,
   "metadata": {},
   "outputs": [],
   "source": [
    "import cobra\n",
    "import copy\n",
    "import numpy as np\n",
    "import pandas as pd "
   ]
  },
  {
   "cell_type": "code",
   "execution_count": 2,
   "metadata": {},
   "outputs": [],
   "source": [
    "#Add the (linear) constraint for the allocation of enzymatic resources based on kapps (1/h), MW (g/mmol), and total proteome to use for the constrained reactions (in g/gdW)\n",
    "def add_molecular_crowding_constraint(m,kapp_rxns,dir,kapp,mw,tot_protein):\n",
    "    coefficients=dict()\n",
    "    for i in range(len(kapp_rxns)):\n",
    "        cur_kapp_rxn=kapp_rxns[i]\n",
    "        cur=m.reactions.get_by_id(cur_kapp_rxn)\n",
    "        if dir[i]=='fwd':\n",
    "            coefficients[cur.forward_variable] = mw[i]/kapp[i]\n",
    "        elif dir[i]=='bwd':\n",
    "            coefficients[cur.reverse_variable] = mw[i]/kapp[i]\n",
    "    mc_constraint = m.problem.Constraint(0,lb=0,ub=tot_protein)\n",
    "    m.add_cons_vars(mc_constraint)\n",
    "    m.solver.update()\n",
    "    mc_constraint.set_linear_coefficients(coefficients=coefficients)"
   ]
  },
  {
   "cell_type": "code",
   "execution_count": 3,
   "metadata": {},
   "outputs": [],
   "source": [
    "#Load the Reduced Model\n",
    "model=cobra.io.load_json_model('../Model/redmod.json')"
   ]
  },
  {
   "cell_type": "code",
   "execution_count": 4,
   "metadata": {
    "tags": []
   },
   "outputs": [
    {
     "name": "stdout",
     "output_type": "stream",
     "text": [
      "Total Proteome available: 0.108584 g/gDW\n"
     ]
    }
   ],
   "source": [
    "#Read the Molecular Crowding data and store it in various lists\n",
    "kapp_tbl=pd.read_csv('kapp_w_mass.csv',index_col='ix')\n",
    "\n",
    "kapp_rxns=kapp_tbl['id'].to_list() #List of Reaction that will appear in the MC constraint\n",
    "kapp_dir=kapp_tbl['dir'].to_list() #Direction in which the constraint is being applied ('fwd' or 'bwd')\n",
    "kapp=np.array(kapp_tbl['kapp'].to_list())*3600 #kapps, scaled so that they are expressed in (1/h)\n",
    "kapp=kapp.tolist()\n",
    "mw=np.array(kapp_tbl['pp_mass'].to_list())/1000 #MWs, scaled so that they are expressed in g/mmol\n",
    "mw=mw.tolist()\n",
    "tot_protein=np.sum(kapp_tbl['pp_abundance mass'].to_list()) #Total proteome available, based on protein abundance measurements\n",
    "\n",
    "print('Total Proteome available: %f g/gDW'%tot_protein)"
   ]
  },
  {
   "cell_type": "code",
   "execution_count": 5,
   "metadata": {
    "tags": []
   },
   "outputs": [],
   "source": [
    "model.reactions.get_by_id('EX_glc__D_e').lower_bound=-1000 #remove original glucose bound\n",
    "add_molecular_crowding_constraint(model,kapp_rxns,kapp_dir,kapp,mw,tot_protein)"
   ]
  },
  {
   "cell_type": "code",
   "execution_count": 6,
   "metadata": {
    "tags": []
   },
   "outputs": [
    {
     "name": "stdout",
     "output_type": "stream",
     "text": [
      "pFBA Objective Value:  1.0124947875270953\n"
     ]
    }
   ],
   "source": [
    "\n",
    "#1. pFBA (further minimize the norm of the flux vector across the optimal subspace)\n",
    "pfba_solution = cobra.flux_analysis.pfba(model)\n",
    "print('pFBA Objective Value:  '+ str(pfba_solution.fluxes['RBIO']))\n",
    "pfba_solution.fluxes.to_csv('output/pfba_results.csv')"
   ]
  },
  {
   "cell_type": "code",
   "execution_count": 7,
   "metadata": {},
   "outputs": [],
   "source": [
    "#2. Flux Variability Analysis\n",
    "fva_solution=cobra.flux_analysis.flux_variability_analysis(model,fraction_of_optimum= 1)\n",
    "fva_solution.to_csv('output/fva_solution.csv')"
   ]
  }
 ],
 "metadata": {
  "kernelspec": {
   "display_name": "Python 3",
   "language": "python",
   "name": "python3"
  },
  "language_info": {
   "codemirror_mode": {
    "name": "ipython",
    "version": 3
   },
   "file_extension": ".py",
   "mimetype": "text/x-python",
   "name": "python",
   "nbconvert_exporter": "python",
   "pygments_lexer": "ipython3",
   "version": "3.7.6"
  }
 },
 "nbformat": 4,
 "nbformat_minor": 2
}
